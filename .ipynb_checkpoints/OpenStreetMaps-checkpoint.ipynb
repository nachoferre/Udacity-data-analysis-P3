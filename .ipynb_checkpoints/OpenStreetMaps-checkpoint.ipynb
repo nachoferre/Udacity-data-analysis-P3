{
 "cells": [
  {
   "cell_type": "markdown",
   "metadata": {},
   "source": [
    "# OpenStreetMaps Project\n",
    "\n",
    "## Introduction\n",
    "\n",
    "The project I am going to develop its about auditing, cleaning and enhancing a dataset containing a region of the world of my choice. In my case I decided to work with my hometown Madrid. The file is 600MBs. The size of the file has posed a problem during the realization of the project, that is why in the last parts of the project we have reduced the size of the dataset we will be working on. \n",
    "The project is going to have three specific parts:\n",
    "* Auditing our data : in here we will look all over our data to find where can it be enhanced or fixed\n",
    "* Treating/Enhancing data : the enhancements and fixes found in the previous part  will be applied here\n",
    "* Analyzing our data : Once we have our data stored in the main database\n",
    "In each of them we will be applying the different concepts we have learned during the course as well as applying different previous knowledge.\n",
    "First we are going to reproduce the quizzes we made during the mongodb case study. We are going to use this quiz to start improving the dataset"
   ]
  },
  {
   "cell_type": "code",
   "execution_count": 1,
   "metadata": {
    "collapsed": false
   },
   "outputs": [],
   "source": [
    "#!/usr/bin/env python\n",
    "# -*- coding: utf-8 -*-\n",
    "import xml.etree.cElementTree as ET\n",
    "import pprint\n",
    "from collections import defaultdict\n",
    "import re\n",
    "import codecs\n",
    "import json\n",
    "import pprint\n",
    "import phonenumbers\n",
    "import requests\n",
    "import signal\n",
    "import pymongo\n",
    "from pymongo import MongoClient\n",
    "import matplotlib.pyplot as plt"
   ]
  },
  {
   "cell_type": "markdown",
   "metadata": {},
   "source": [
    "## Auditing our data\n",
    "In this part we are going to look over our data and try to find as many enhancements or fixes as we can in order to be able to deliver a much better and complete dataset. Mainly we are going to take a look to the address fields and try to stablish rules for a future normalization of the streettypes as well as phones and any other thing we can come up with."
   ]
  },
  {
   "cell_type": "code",
   "execution_count": 2,
   "metadata": {
    "collapsed": true
   },
   "outputs": [],
   "source": [
    "# ================================================== #\n",
    "#               Helper Functions                     #\n",
    "# ================================================== #\n",
    "def get_element(osm_file):\n",
    "    \"\"\"Yield element if it is the right type of tag\"\"\"\n",
    "    # This is the function we are going to use to iterate through our dataset \n",
    "    # so we can avoid storing it all in memory\n",
    "    context = ET.iterparse(osm_file, events=('start', 'end'))\n",
    "    _, root = next(context)\n",
    "    for event, elem in context:\n",
    "        if event == 'end':\n",
    "            yield elem\n",
    "            root.clear()"
   ]
  },
  {
   "cell_type": "code",
   "execution_count": 8,
   "metadata": {
    "collapsed": true
   },
   "outputs": [],
   "source": [
    "# The regular expression used  to detect the street type\n",
    "street_type_re = re.compile(r'^\\b\\S+\\.?', re.IGNORECASE)\n",
    "problemchars = re.compile(r'[=\\+/&<>;\\'\"\\?%#$@\\,\\. \\t\\r\\n]')\n",
    "# The array of expected street types\n",
    "EXPECTED = [\"Calle\", \"Avenida\", \"Plaza\", u\"Autov\\xeda\", \n",
    "            \"Carretera\", \"Camino\", \"Via\", u\"Traves\\xeda\", \"Ronda\",\n",
    "           \"Puerta\", \"Plaza\", \"Paseo\", u\"Pol\\xedgono\", \"Glorieta\", \n",
    "            u'Callej\\xf3n', u'V\\xeda']"
   ]
  },
  {
   "cell_type": "markdown",
   "metadata": {},
   "source": [
    "We have modified the regular expression so it gets the first word instead of the last one. Given that in spanish the street types is written at the start of the string instead of in English that, as you may know, at the end. \n",
    "Given that our dataset is in Spanih we are facing the problem of the codification of our data because some of it is in unicode and others in string, so I decided to code everything in unicode so it can have an standard."
   ]
  },
  {
   "cell_type": "code",
   "execution_count": 9,
   "metadata": {
    "collapsed": false
   },
   "outputs": [],
   "source": [
    "# This functon is in charge creating a set of street types \n",
    "# that are not expected\n",
    "def audit_street_type(street_types, street_name):\n",
    "    \n",
    "    m = street_type_re.search(street_name)\n",
    "    if m:\n",
    "        street_type = m.group()\n",
    "        if street_type not in EXPECTED:\n",
    "            \n",
    "            \n",
    "            # street_types[street_type].add(type(street_name))\n",
    "            street_types[street_type].add(street_name)\n",
    "\n",
    "# this is a simple function to detect a street\n",
    "def is_street_name(elem):\n",
    "    return (elem.attrib['k'] == \"addr:street\")"
   ]
  },
  {
   "cell_type": "code",
   "execution_count": 11,
   "metadata": {
    "collapsed": false
   },
   "outputs": [],
   "source": [
    "# Define a set to store the street types\n",
    "street_types = defaultdict(set)\n",
    "# Loop used for getting to the attribute we want\n",
    "for event, elem in enumerate(get_element(\"Madrid.osm\")):\n",
    "    if elem.tag == \"node\" or elem.tag == \"way\":\n",
    "        for tag in elem.iter(\"tag\"):\n",
    "            if is_street_name(tag):\n",
    "                audit_street_type(street_types, tag.attrib['v'])\n",
    "    "
   ]
  },
  {
   "cell_type": "code",
   "execution_count": 6,
   "metadata": {
    "collapsed": false
   },
   "outputs": [],
   "source": [
    "# street_types\n",
    "# I commented the line so there are not that many lines"
   ]
  },
  {
   "cell_type": "markdown",
   "metadata": {
    "collapsed": true
   },
   "source": [
    "After some auditing of the data I build the Expected array with the street types we have selected to be the right ones.\n",
    "Once we got the ones that are right we need to divide the rest into two different groups:\n",
    "1. The street types that are wrongly written \n",
    "2. The rest of the street types are really part of the street\n",
    "\n",
    "This part cant be automated so it has to be done by hand. But before that we have to decide what are we going to do with the accents.\n",
    "First we are going to check the different types of strings we have in our dataset:\n",
    "\n",
    "&nbsp;We have found two different types of data, string and unicode. \n",
    "\n",
    "Now that we have identified the two different types of data we are facing we have to parse all of the data to string.\n",
    "After trying to parse all data to string we realized that we couldnt do it given the fact that string doesnt manage the special ascii characters. \n",
    "So we are going to try to parse everithing in unicode with utf-8 coding.\n",
    "After having specified the way we are going to treat the data we move to the next step"
   ]
  },
  {
   "cell_type": "markdown",
   "metadata": {
    "collapsed": true
   },
   "source": [
    "### Treating the data\n",
    "In order to start fixing the data, first we are going to create a dictionary with the elements that are wrongly written.\n",
    "Now that we are aware of the different fixes we are goig to do to our data. We will start by normalizing our data as we learned during the course."
   ]
  },
  {
   "cell_type": "code",
   "execution_count": 2,
   "metadata": {
    "collapsed": false
   },
   "outputs": [],
   "source": [
    "EXPECTED = [\"Calle\", \"Avenida\", \"Plaza\", u\"Autov\\xeda\", \n",
    "            \"Carretera\", \"Camino\", \"Via\", u\"Traves\\xeda\", \"Ronda\",\n",
    "           \"Puerta\", \"Plaza\", \"Paseo\", u\"Pol\\xedgono\", \"Glorieta\", \n",
    "            u'Callej\\xf3n', u'V\\xeda']\n",
    "types_to_fix = {\"AUTOP.\":u'Autopista', \"AUTOVIA\":u'Autovia',\n",
    "            \"AV.\":u'Avenida', \"AV\":u\"Avenida\", \"AVDA.\":u\"Avenida\",\n",
    "            \"AVDA\":u\"Avenida\", \"AVENIDA\":u\"Avenida\",\n",
    "            \"Av.\":u\"Avenida\", \"Avda.\":u\"Avenida\", \"Avda\":u\"Avenida\",\n",
    "            \"Avenidad\":u\"Avenida\",\n",
    "            \"C/\":u\"Calle\", \"CALLE\":u\"Calle\", \"CL\":u\"Calle\",\n",
    "            \"Call\":u\"Calle\", \"calle\":u\"Calle\",\n",
    "            \"CARRERA\":u\"Carretera\", \"CARRETERA\":u\"Carretera\",\n",
    "            \"CR\":u\"Carretera\", \"CRTA\":u\"Carretera\", \"CRTA.\":u\"Carretera\",\n",
    "            \"Carrterera\":u\"Carretera\", \"Ctra\":u\"Carretera\",\n",
    "            \"Ctra.\":u\"Carretera\",\n",
    "            \"GLORIETA\":u\"Glorieta\", \"Joaquin\":u\"Joqu\\xedn\",\n",
    "            \"Jose\":u\"Jos\\xe9\",\n",
    "            u\"Pol\\xef\\xbf\\xbd\\xef\\xbf\\xbdgono\":u\"Pol\\xedgono\",\n",
    "            u\"Poligono\":u\"Pol\\xedgono\", \"POLIGONO\":u\"Pol\\xedgono\",\n",
    "            \"Pz\":u\"Plaza\", \"Pza.\":u\"Plaza\", \"PLAZA\":u\"Plaza\",\n",
    "            \"plaza\":u\"Plaza\",\n",
    "            \"PASEO\":u\"Paseo\", \"Pasage\":u\"Pasaje\", \"ZONA\":u\"Zona\",\n",
    "            \"zarzuela\":u\"Zarzuela\", \"montecarmelo\":u\"Montecarmelo\"\n",
    "            }\n",
    "CREATED = [ \"version\", \"changeset\", \"timestamp\", \"user\", \"uid\"]"
   ]
  },
  {
   "cell_type": "markdown",
   "metadata": {},
   "source": [
    "During the realization of the previous codeblock we found that some of the data was misplaced and there was a node that was from Reus Tarragona. Which is a city that is around 400 Km NorthEast Madrid, and obviously is not supposed to be in our dataset.\n",
    "In order to have a coherent dataset we proceed to erase this node"
   ]
  },
  {
   "cell_type": "code",
   "execution_count": 3,
   "metadata": {
    "collapsed": false
   },
   "outputs": [],
   "source": [
    "def format_phone(phone):\n",
    "    # for the formatting of the phones I decided to use \n",
    "    # an adaptation of a Google library for phone formatting\n",
    "    parsed_number = phonenumbers.parse(phone,\"ES\")\n",
    "    if phonenumbers.is_valid_number(parsed_number):\n",
    "        final_phone = phonenumber.format_number(parsed_number,phonenumbers.PhoneNumberFormat.E164)\n",
    "        return final_phone\n",
    "    else:\n",
    "        return None\n",
    "\n",
    "def check_cp(node):\n",
    "    if \"address\" in node:\n",
    "        if \"postcode\" not in node[\"address\"].keys():\n",
    "            pass\n",
    "    \n",
    "    return node\n",
    "                    "
   ]
  },
  {
   "cell_type": "code",
   "execution_count": 4,
   "metadata": {
    "collapsed": true
   },
   "outputs": [],
   "source": [
    "# function in charge of creating a json object / dictionary with all the data\n",
    "def shape_element(element):\n",
    "    node = {}\n",
    "    if element.tag == \"node\" or element.tag == \"way\":\n",
    "        node[\"type\"] = element.tag\n",
    "        attributes =  element.attrib\n",
    "        for elem in attributes:\n",
    "            if elem in CREATED:\n",
    "                if \"created\" not in node:\n",
    "                    node[\"created\"] = {}\n",
    "                node[\"created\"][elem] = attributes[elem]\n",
    "            elif elem == \"lon\" or elem == \"lat\":\n",
    "                if \"pos\" not in node:\n",
    "                    node[\"pos\"] = [0,0]\n",
    "                if elem == \"lon\":\n",
    "                    node[\"pos\"][1] = float(attributes[elem])\n",
    "                else:\n",
    "                    node[\"pos\"][0] = float(attributes[elem])\n",
    "            else:\n",
    "                node[elem] = attributes[elem]\n",
    "        \n",
    "        for child in element:\n",
    "            if child.tag == \"tag\":\n",
    "                attributes = child.attrib\n",
    "                if not problemchars.search(attributes[\"k\"]):\n",
    "                    if attributes[\"k\"].startswith(\"addr:\"):\n",
    "                        adr = attributes[\"k\"][5:]\n",
    "                        if \":\" not in adr:\n",
    "                            if \"address\" not in node:\n",
    "                                node[\"address\"] = {}\n",
    "                            node[\"address\"][adr] = attributes[\"v\"]\n",
    "                    elif \":\" in attributes[\"k\"]:\n",
    "                        pos = attributes[\"k\"].index(\":\")\n",
    "                        keys = attributes[\"k\"]\n",
    "                        if keys[:pos] in node:\n",
    "                            if keys[pos+1:] == \"phone\":\n",
    "                                attributes['v'] = format_phone(attributes['v'])\n",
    "                            if attributes['v'] != None:\n",
    "                                node[keys[:pos]][keys[pos+1:]] = attributes[\"v\"]\n",
    "    node = check_cp(node)\n",
    "    return node"
   ]
  },
  {
   "cell_type": "code",
   "execution_count": 5,
   "metadata": {
    "collapsed": false
   },
   "outputs": [],
   "source": [
    "# this functionis the one in charge of savis the data generated in shape_element, concatenate it \n",
    "# all and save it in a JSON file for future use\n",
    "def process_map( file_in = \"Madrid.osm\", pretty = True):\n",
    "    # You do not need to change this file\n",
    "    file_out = \"Madrid.json\"\n",
    "    data = []\n",
    "    firstline = True\n",
    "    with open(file_out, 'w') as outfile:\n",
    "        for _, element in enumerate(get_element(\"Madrid.osm\")):\n",
    "            el = shape_element(element)\n",
    "            if el:\n",
    "                data.append(el)\n",
    "                if firstline:\n",
    "                    print el\n",
    "                    firstline = False\n",
    "        json.dump(data, outfile, indent=4, sort_keys=True, separators=(',', ':'))     \n",
    "    return data"
   ]
  },
  {
   "cell_type": "code",
   "execution_count": 15,
   "metadata": {
    "collapsed": false,
    "scrolled": true
   },
   "outputs": [
    {
     "data": {
      "text/plain": [
       "2328967"
      ]
     },
     "execution_count": 15,
     "metadata": {},
     "output_type": "execute_result"
    }
   ],
   "source": [
    "#data = process_map()\n",
    "len (data)"
   ]
  },
  {
   "cell_type": "markdown",
   "metadata": {
    "collapsed": true
   },
   "source": [
    "### Enhancing our data\n",
    "\n",
    "Once we have the actual json document we start to look for different enhancements to our data. For that, we need to start going through our data and try to find things we could add or normalize like telephone numbers or cities. Given that our dataset not only comprises Madrid but the surrounding cities.\n",
    "For the main enhancement first we have to check who meany addresses are mising as well as coordinates. For that wejust need somo simple functions to count the number of elements missing."
   ]
  },
  {
   "cell_type": "code",
   "execution_count": 9,
   "metadata": {
    "collapsed": false
   },
   "outputs": [],
   "source": [
    "# From now on we can work with the json file that has all the \n",
    "# information of the osm file with the telephone already formatted \n",
    "# also we evade re executing the previous parts to avoid unnecessary execution time\n",
    "with open('Madrid.json') as data_file:    \n",
    "    data = json.load(data_file)"
   ]
  },
  {
   "cell_type": "code",
   "execution_count": 10,
   "metadata": {
    "collapsed": true
   },
   "outputs": [],
   "source": [
    "# this returns the number of elements that doesnt posess coordinates\n",
    "# and also return the number of elements without coordinates but with addresss\n",
    "def num_pos(data, nopos, siadr):\n",
    "    if \"pos\" not in data.keys():\n",
    "        nopos += 1\n",
    "        if \"address\" in data.keys():\n",
    "            siadr += 1  \n",
    "    return nopos, siadr \n",
    "# this returns the number of elements that doesnt posess address\n",
    "# and also return the number of elements without address but with coordinates\n",
    "def num_adr(data, noadr, sipos):\n",
    "    if \"address\" not in data.keys():\n",
    "        noadr += 1\n",
    "        if \"pos\" in data.keys():\n",
    "            sipos += 1  \n",
    "    return noadr, sipos "
   ]
  },
  {
   "cell_type": "code",
   "execution_count": 11,
   "metadata": {
    "collapsed": false
   },
   "outputs": [],
   "source": [
    "nopos = 0\n",
    "siadr = 0\n",
    "for elem in data:\n",
    "    nopos, siadr = num_pos(elem, nopos, siadr)"
   ]
  },
  {
   "cell_type": "code",
   "execution_count": 12,
   "metadata": {
    "collapsed": false,
    "scrolled": true
   },
   "outputs": [
    {
     "name": "stdout",
     "output_type": "stream",
     "text": [
      "Elements in our data that doesnt have coordinates is: 310311\n",
      "and from those elements that have adresses are: 29289\n"
     ]
    }
   ],
   "source": [
    "print \"Elements in our data that doesnt have coordinates is: \" + str(nopos)\n",
    "print \"and from those elements that have adresses are: \" + str(siadr)\n",
    "# Here the variable nopos gives the number of element that \n",
    "# doesnt have a position\n",
    "# And the siadr variable states the number of those that have an \n",
    "# address"
   ]
  },
  {
   "cell_type": "markdown",
   "metadata": {},
   "source": [
    "With this output we see the number of position values we can fill with the information of the address. For that we are going to use a geocoding API to fill those blanks. Now we are going to find out how many cases we have in reverse"
   ]
  },
  {
   "cell_type": "code",
   "execution_count": 13,
   "metadata": {
    "collapsed": false
   },
   "outputs": [],
   "source": [
    "noadr = 0\n",
    "sipos = 0\n",
    "for elem in data:\n",
    "    noadr, sipos = num_adr(elem, noadr, sipos)"
   ]
  },
  {
   "cell_type": "code",
   "execution_count": 14,
   "metadata": {
    "collapsed": false
   },
   "outputs": [
    {
     "name": "stdout",
     "output_type": "stream",
     "text": [
      "Elements in our data that doesnt have addresses is: 2270592\n",
      "and from those elements that have coordenates are: 1989570\n"
     ]
    }
   ],
   "source": [
    "# Now we print the variables\n",
    "print \"Elements in our data that doesnt have addresses is: \" + str(noadr)\n",
    "print \"and from those elements that have coordenates are: \" + str(sipos)"
   ]
  },
  {
   "cell_type": "markdown",
   "metadata": {},
   "source": [
    "Now that we have found some part of our data that could be enhanced we need to find out how to enhance it. In my previous job we worked with somethin called geocoding. Which is a technology capable returning a set of coordinates given an address, also the reverse geocoding exists which does the same in reverse. So once I knew of a tool that I could apply to this project I decided to find for an API that could suit my necesities:\n",
    "\n",
    "Thanks to some research we have found to major goecoding APIs:\n",
    "* Google Geocoding API with 2500 a day\n",
    "* Mapquest 10.000\n",
    "* Geocode Unilimited requets\n",
    "\n",
    "There are many more services with geocoding capabilities but Mapquest and Google are the ones that I have previous experience with. Then I found the geocode API that allows unlimited requets in geocoding and reverse geocoding. The only problem it poses its that their speed is pretty slow.\n",
    "I decided to use it given the amount of requests I intend to do, beacuse as can be seen from the previous execution we need to execute around 1.500.000 requests.\n",
    "For that we are going to use the requets library which allows you to maque HTTP requests."
   ]
  },
  {
   "cell_type": "code",
   "execution_count": 15,
   "metadata": {
    "collapsed": false,
    "scrolled": true
   },
   "outputs": [
    {
     "data": {
      "text/plain": [
       "{u'latt': u'40.45022',\n",
       " u'longt': u'-3.69014',\n",
       " u'standard': {u'addresst': u'PS CASTELLANA',\n",
       "  u'city': u'Madrid',\n",
       "  u'confidence': u'0.80',\n",
       "  u'postal': {},\n",
       "  u'prov': u'ES',\n",
       "  u'stnumber': u'130'}}"
      ]
     },
     "execution_count": 15,
     "metadata": {},
     "output_type": "execute_result"
    }
   ],
   "source": [
    "# We make our first try to see how the answers are delivered\n",
    "url = \"https://geocode.xyz/{data}?geoit=json\"\n",
    "r = requests.get(url.format(data=\"castellana 130 madrid\"))\n",
    "get_json(r)"
   ]
  },
  {
   "cell_type": "code",
   "execution_count": 16,
   "metadata": {
    "collapsed": false
   },
   "outputs": [],
   "source": [
    "adr_dict ={\"city\":\"city\",\n",
    "           \"staddress\":\"street\",\n",
    "           \"postal\":\"postcode\", # careful this is a list\n",
    "          \"stnumber\":\"housenumber\"}\n",
    "pos_dict = {\"latt\":\"pos\", # This must be the first position [0]\n",
    "           \"longt\":\"pos\"} # This must be the second position [1]"
   ]
  },
  {
   "cell_type": "code",
   "execution_count": 17,
   "metadata": {
    "collapsed": true
   },
   "outputs": [],
   "source": [
    "# this function takes returns the json produced by the http response\n",
    "def get_json(r):\n",
    "    json_data =  r.text\n",
    "    json_data = json.loads(json_data)\n",
    "    return json_data"
   ]
  },
  {
   "cell_type": "code",
   "execution_count": 18,
   "metadata": {
    "collapsed": true
   },
   "outputs": [],
   "source": [
    "# This is the modified version of the num_pos function, in this case it returns True only if the json package \n",
    "# doesnt have pos key but has a address one\n",
    "def check_pos(data):\n",
    "    if \"pos\" not in data.keys():\n",
    "        if \"address\" in data.keys():\n",
    "            return True \n",
    "    return False\n",
    "# This is the modified version of the num_adr function, in this case it returns True only if the json package \n",
    "# doesnt have adress key but has a pos one\n",
    "def check_adr(data):\n",
    "    if \"address\" not in data.keys():\n",
    "        if \"pos\" in data.keys():\n",
    "            return True  \n",
    "    return False "
   ]
  },
  {
   "cell_type": "code",
   "execution_count": 19,
   "metadata": {
    "collapsed": true
   },
   "outputs": [],
   "source": [
    "# this function is the one in charge of filling the coordinates in the pos key. \n",
    "#Recieves the data variable and the url needed to make the request\n",
    "def fix_pos(data, url):\n",
    "    #first build the necessary data to use the API\n",
    "    if \"pos\" not in data.keys():\n",
    "        if \"address\" in data.keys():\n",
    "            street = \"\"\n",
    "            if \"street\" in data[\"address\"].keys():\n",
    "                print \"a\"\n",
    "                street += data[\"address\"][\"street\"]\n",
    "                if \"housenumber\" in data[\"address\"].keys():\n",
    "                    street += \" \" + data[\"address\"][\"housenumber\"]\n",
    "                if \"city\" in data[\"address\"].keys():\n",
    "                    street += \" \" + data[\"address\"][\"city\"]\n",
    "    # Once we have the street variable filled we format it into the url\n",
    "    # and send the https request\n",
    "            r = requests.get(url.format(data=street))\n",
    "            json_data = get_json(r)\n",
    "            if \"latt\" in json_data.keys() and \"longt\" in json_data.keys():\n",
    "                # And now we fill the empty pos key with the information gathered by the API request\n",
    "                data[\"pos\"] = [json_data[\"latt\"], json_data[\"longt\"]]\n",
    "    return data \n",
    "# this function is the one in charge of filling the adress in the address key. \n",
    "#Recieves the data variable and the url needed to make the request\n",
    "def fix_adr(data, url):\n",
    "    if \"address\" not in data.keys():\n",
    "        if \"pos\" in data.keys():\n",
    "            # Here we form the coord variable wich has the info needed for the geocoding /http request\n",
    "            coord = \"{lat},{lon}\".format(lat=data[\"pos\"][0], lon=data[\"pos\"][1])\n",
    "            r = requests.get(url.format(data=coord))\n",
    "            json_data = get_json(r)\n",
    "            # And once we have recieved the data it is inputted in the data variable \n",
    "            data[\"address\"] = {}\n",
    "            for key in adr_dict:\n",
    "                if key in json_data:\n",
    "                    data[\"address\"][adr_dict[key]] = json_data[key]\n",
    "    return data "
   ]
  },
  {
   "cell_type": "code",
   "execution_count": 20,
   "metadata": {
    "collapsed": true
   },
   "outputs": [],
   "source": [
    "def save_data(data, file_out):\n",
    "    with open(file_out, 'w') as outfile:\n",
    "        json.dump(data, outfile, indent=4, sort_keys=True, separators=(',', ':'))"
   ]
  },
  {
   "cell_type": "code",
   "execution_count": 21,
   "metadata": {
    "collapsed": false
   },
   "outputs": [
    {
     "data": {
      "text/plain": [
       "2328967"
      ]
     },
     "execution_count": 21,
     "metadata": {},
     "output_type": "execute_result"
    }
   ],
   "source": [
    "len(data)"
   ]
  },
  {
   "cell_type": "code",
   "execution_count": 22,
   "metadata": {
    "collapsed": false
   },
   "outputs": [
    {
     "name": "stdout",
     "output_type": "stream",
     "text": [
      "One hour has passed, time to save\n",
      "One hour has passed, time to save\n"
     ]
    }
   ],
   "source": [
    "# this function was developed to create an alarm and save the data every hour        \n",
    "def signal_handler(signum, frame):\n",
    "        print \"One hour has passed, time to save\"\n",
    "        save_data(data_treated, \"Madrid_V1.json\")\n",
    "        signal.alarm(3600)\n",
    "        \n",
    "#we set up the handler as well as the alarm\n",
    "signal.signal(signal.SIGALRM, signal_handler)\n",
    "signal.alarm(3600)\n",
    "firstline = True\n",
    "data_treated = []\n",
    "# this is the loop in charge of fixing and returning the whole data fixed\n",
    "for i in range(len(data)):\n",
    "    #Given the size of the dataset and we had to handle possible errors so the loop can still working\n",
    "    if i == 100:\n",
    "        break\n",
    "    try:\n",
    "        if check_adr(data[i]):\n",
    "            data[i] = fix_adr(data[i],url)\n",
    "    except Exception as e:\n",
    "        print \"Error in line: \" + str(i)\n",
    "        save_data(data_treated, \"Madrid_vError.json\")\n",
    "        print e\n",
    "    try:\n",
    "        if check_pos(data[i]):\n",
    "            data[i] = fix_pos(data[i], url)\n",
    "    except Exception as e:\n",
    "        print \"Error in line: \" + str(i)\n",
    "        save_data(data_treated, \"Madrid_vError.json\")\n",
    "        print e\n",
    "    data_treated.append(data[i])\n",
    "    \n",
    "# finally once the loop is over the whole data is saved    \n",
    "save_data(data_treated, \"Madrid_v1.json\")"
   ]
  },
  {
   "cell_type": "code",
   "execution_count": 19,
   "metadata": {
    "collapsed": false
   },
   "outputs": [
    {
     "data": {
      "text/plain": [
       "256358"
      ]
     },
     "execution_count": 19,
     "metadata": {},
     "output_type": "execute_result"
    }
   ],
   "source": [
    "len(data_treated)"
   ]
  },
  {
   "cell_type": "code",
   "execution_count": 20,
   "metadata": {
    "collapsed": true
   },
   "outputs": [],
   "source": [
    "# given that we had to stop earlier we saved our data with this call\n",
    "save_data(data_treated, \"Madrid_V1.json\")"
   ]
  },
  {
   "cell_type": "markdown",
   "metadata": {},
   "source": [
    "Given that our dataset is just too big and the number of calls needed to make were just too much for the geocode API to make in a reasonble amount of time, i decided to stop the execution after two days and i am going to work with the data gathered up this point which as you can see in the previous block is 256358. Now we are goinf to upload this data into our mongodb database"
   ]
  },
  {
   "cell_type": "markdown",
   "metadata": {},
   "source": [
    "## Analyzing our data\n",
    "Now we have our data in json format, cleaned and enhanced we are prepared to insert it into our MongoDB databes, which is the one we decided to work with. Once the data has been inserted we will do different database calls so we can show different statistics of our data.\n",
    "This statistics include bargraphs all thanks to the use of the aggregate funnction which allows you a great capabilities of data handling."
   ]
  },
  {
   "cell_type": "code",
   "execution_count": null,
   "metadata": {
    "collapsed": true
   },
   "outputs": [],
   "source": [
    "# Now we just need to save our cleaned and enhanced data in mongoDB\n",
    "result = db.project.insert_many(data_treated)"
   ]
  },
  {
   "cell_type": "code",
   "execution_count": 21,
   "metadata": {
    "collapsed": false
   },
   "outputs": [],
   "source": [
    "# we connect and move to the right database and collection\n",
    "connection = MongoClient()\n",
    "db = connection.openstreetmaps"
   ]
  },
  {
   "cell_type": "code",
   "execution_count": 24,
   "metadata": {
    "collapsed": false
   },
   "outputs": [
    {
     "data": {
      "text/plain": [
       "256358"
      ]
     },
     "execution_count": 24,
     "metadata": {},
     "output_type": "execute_result"
    }
   ],
   "source": [
    "db.project.count()"
   ]
  },
  {
   "cell_type": "markdown",
   "metadata": {},
   "source": [
    "As we can see the database has been filled with the formatted data and now it can be accessed through the pymongo function calls without the need of storing all the data in memory.\n",
    "\n",
    "Now we are going to get some useful statistics with the data by using function calls to mongoDB"
   ]
  },
  {
   "cell_type": "code",
   "execution_count": 18,
   "metadata": {
    "collapsed": false
   },
   "outputs": [],
   "source": [
    "# helper function to print the data with the provided databese and the pipeline\n",
    "def print_data(db, pipeline):\n",
    "    return [doc for doc in db.project.aggregate(pipeline)]\n"
   ]
  },
  {
   "cell_type": "code",
   "execution_count": 48,
   "metadata": {
    "collapsed": false
   },
   "outputs": [
    {
     "data": {
      "text/plain": [
       "[{u'_id': u'jamesks', u'count': 38598}]"
      ]
     },
     "execution_count": 48,
     "metadata": {},
     "output_type": "execute_result"
    }
   ],
   "source": [
    "print_data(db, [{\"$group\":{\"_id\":\"$created.user\", \"count\": {\"$sum\": 1}}},{\"$sort\": {\"count\":-1}},{\"$limit\":1}])"
   ]
  },
  {
   "cell_type": "markdown",
   "metadata": {},
   "source": [
    "Here we can see one of the uses in aggregate in which we can now see who has been the most active user. In our case is jamesks with 38598 nodes created. In the next we can see that there are no functions specified for the nodes, I searched the data for the objective of each node and i couldnt find it."
   ]
  },
  {
   "cell_type": "code",
   "execution_count": 49,
   "metadata": {
    "collapsed": false
   },
   "outputs": [
    {
     "data": {
      "text/plain": [
       "[{u'_id': u'node', u'count': 256358}]"
      ]
     },
     "execution_count": 49,
     "metadata": {},
     "output_type": "execute_result"
    }
   ],
   "source": [
    "print_data(db, [{\"$group\":{\"_id\":\"$type\", \"count\": {\"$sum\": 1}}},{\"$sort\": {\"count\":-1}},{\"$limit\":1}])"
   ]
  },
  {
   "cell_type": "code",
   "execution_count": 66,
   "metadata": {
    "collapsed": false
   },
   "outputs": [
    {
     "data": {
      "text/plain": [
       "{u'avgObjSize': 495,\n",
       " u'count': 256358,\n",
       " u'indexSizes': {u'_id_': 8331344},\n",
       " u'lastExtentSize': 50798592,\n",
       " u'nindexes': 1,\n",
       " u'ns': u'openstreetmaps.project',\n",
       " u'numExtents': 12,\n",
       " u'ok': 1.0,\n",
       " u'paddingFactor': 1.0,\n",
       " u'size': 127099808,\n",
       " u'storageSize': 174735360,\n",
       " u'systemFlags': 1,\n",
       " u'totalIndexSize': 8331344,\n",
       " u'userFlags': 1}"
      ]
     },
     "execution_count": 66,
     "metadata": {},
     "output_type": "execute_result"
    }
   ],
   "source": [
    "db.command('collStats', 'project')\n",
    "# Here we see some stats like the size in bytes of the collection "
   ]
  },
  {
   "cell_type": "code",
   "execution_count": 53,
   "metadata": {
    "collapsed": false
   },
   "outputs": [
    {
     "data": {
      "text/plain": [
       "[{u'_id': u'2008-04-07T22:32:48Z', u'count': 77}]"
      ]
     },
     "execution_count": 53,
     "metadata": {},
     "output_type": "execute_result"
    }
   ],
   "source": [
    "print_data(db, [{\"$group\":{\"_id\":\"$created.timestamp\", \"count\": {\"$sum\": 1}}},{\"$sort\": {\"count\":-1}},{\"$limit\":1}])"
   ]
  },
  {
   "cell_type": "code",
   "execution_count": 71,
   "metadata": {
    "collapsed": false
   },
   "outputs": [
    {
     "data": {
      "text/plain": [
       "[{u'_id': {}, u'count': 242353},\n",
       " {u'_id': u'28030', u'count': 725},\n",
       " {u'_id': u'28041', u'count': 668},\n",
       " {u'_id': u'28017', u'count': 582},\n",
       " {u'_id': u'28007', u'count': 509}]"
      ]
     },
     "execution_count": 71,
     "metadata": {},
     "output_type": "execute_result"
    }
   ],
   "source": [
    "print_data(db, [{\"$group\":{\"_id\":\"$address.postcode\", \"count\": {\"$sum\": 1}}},{\"$sort\": {\"count\":-1}},{\"$limit\":5}])"
   ]
  },
  {
   "cell_type": "markdown",
   "metadata": {},
   "source": [
    "Here we can see the most popular day for the addition of nodes. \n",
    "Also we have the node that have an address with an postal code and the area code with the highest number of nodes written in our dataset.\n",
    "Next we will make some graphs in order to see the difference from the best day to the worst day as well as the most to the least active user"
   ]
  },
  {
   "cell_type": "code",
   "execution_count": 44,
   "metadata": {
    "collapsed": false,
    "scrolled": true
   },
   "outputs": [
    {
     "name": "stdout",
     "output_type": "stream",
     "text": [
      "Populating the interactive namespace from numpy and matplotlib\n",
      "[38598, 36243, 23423, 21811, 13567, 12546, 8014, 7679, 7085, 6360]\n"
     ]
    },
    {
     "data": {
      "text/plain": [
       "[<matplotlib.text.Text at 0x7f5d6bcbc3d0>,\n",
       " <matplotlib.text.Text at 0x7f5d6bc9e690>,\n",
       " <matplotlib.text.Text at 0x7f5d678e9b50>,\n",
       " <matplotlib.text.Text at 0x7f5d678fd2d0>,\n",
       " <matplotlib.text.Text at 0x7f5d678fda10>,\n",
       " <matplotlib.text.Text at 0x7f5d67911190>,\n",
       " <matplotlib.text.Text at 0x7f5d679118d0>,\n",
       " <matplotlib.text.Text at 0x7f5d6bd42050>,\n",
       " <matplotlib.text.Text at 0x7f5d6bd42790>,\n",
       " <matplotlib.text.Text at 0x7f5d6bd42ed0>]"
      ]
     },
     "execution_count": 44,
     "metadata": {},
     "output_type": "execute_result"
    },
    {
     "data": {
      "image/png": "[encoded data removed]",
      "text/plain": [
       "<matplotlib.figure.Figure at 0x7f5d67d2fa50>"
      ]
     },
     "metadata": {},
     "output_type": "display_data"
    }
   ],
   "source": [
    "hist = print_data(db, [{\"$group\":{\"_id\":\"$created.user\", \"count\": {\"$sum\": 1}}},{\"$sort\": {\"count\":-1}}, {\"$limit\":10}])\n",
    "x = []\n",
    "y = []\n",
    "for elem in hist:\n",
    "    aux = elem[\"count\"]\n",
    "    x.append(aux)\n",
    "    y.append(elem[\"_id\"])\n",
    "%pylab inline\n",
    "print x\n",
    "order = [i for i in range(10)]\n",
    "# we show a bar graph of the data for easier comprehension\n",
    "fig, ax = plt.subplots()\n",
    "ax.bar( order,x)\n",
    "ax.set_xticks(order)\n",
    "ax.set_title(\"Top ten user Participation\")\n",
    "ax.set_ylabel(\"Nodes created\")\n",
    "ax.set_xlabel(\"Users\")\n",
    "ax.set_xticklabels(y, rotation=45)"
   ]
  },
  {
   "cell_type": "code",
   "execution_count": 32,
   "metadata": {
    "collapsed": false
   },
   "outputs": [
    {
     "name": "stdout",
     "output_type": "stream",
     "text": [
      "[2006, 2007, 2008, 2009, 2010, 2011, 2012, 2013, 2014, 2015, 2016]\n",
      "[27109, 16195, 24390, 23907, 27940, 45064, 32692, 12799, 41923, 4239, 100]\n"
     ]
    }
   ],
   "source": [
    "# Now we are going to make a bar graph in which every bar will be a year so we first need to gather the data\n",
    "hist = print_data(db, [{\"$group\":{\"_id\":\"$created.timestamp\", \"count\": {\"$sum\": 1}}},{\"$sort\": {\"count\":-1}}])\n",
    "x = []\n",
    "y = []\n",
    "for elem in hist:\n",
    "    aux = elem[\"count\"]\n",
    "    x.append(aux)\n",
    "    y.append(elem[\"_id\"])\n",
    "year_rep = []\n",
    "for elem in y:\n",
    "    # we got the data and formatted to a datetime object so we can get the year\n",
    "    aux = datetime.datetime.strptime(elem, \"%Y-%m-%dT%H:%M:%SZ\")\n",
    "    year_rep.append(aux.year)\n",
    "year = []\n",
    "count = []\n",
    "for elem in year_rep:\n",
    "    if elem not in year:\n",
    "        aux = 0\n",
    "        for i in range(len(year_rep)):\n",
    "            if elem == year_rep[i]:\n",
    "                aux += x[i]\n",
    "                x[i] = 0\n",
    "        year.append(elem)\n",
    "        count.append(aux)\n",
    "\n",
    "print year\n",
    "print count"
   ]
  },
  {
   "cell_type": "markdown",
   "metadata": {},
   "source": [
    "As you can see now we have two differen arrays that show aus the number of nodes created in each year, however the visualization of the data could be much better if the years were ordered. But we have another array that id dependant from the year so if we want to order one, we should order the other accordingly"
   ]
  },
  {
   "cell_type": "code",
   "execution_count": 36,
   "metadata": {
    "collapsed": false
   },
   "outputs": [],
   "source": [
    "year_ordered = [y for (y,x) in sorted(zip(year,count))]\n",
    "count_ordered = [x for (y,x) in sorted(zip(year,count))]"
   ]
  },
  {
   "cell_type": "code",
   "execution_count": 42,
   "metadata": {
    "collapsed": false,
    "scrolled": true
   },
   "outputs": [
    {
     "name": "stdout",
     "output_type": "stream",
     "text": [
      "Populating the interactive namespace from numpy and matplotlib\n"
     ]
    },
    {
     "data": {
      "text/plain": [
       "[<matplotlib.text.Text at 0x7f5d679ee690>,\n",
       " <matplotlib.text.Text at 0x7f5d679eb9d0>,\n",
       " <matplotlib.text.Text at 0x7f5d6bdd3510>,\n",
       " <matplotlib.text.Text at 0x7f5d6bdd3c50>,\n",
       " <matplotlib.text.Text at 0x7f5d6bde73d0>,\n",
       " <matplotlib.text.Text at 0x7f5d6bde7b10>,\n",
       " <matplotlib.text.Text at 0x7f5d67362290>,\n",
       " <matplotlib.text.Text at 0x7f5d673629d0>,\n",
       " <matplotlib.text.Text at 0x7f5d6736a150>,\n",
       " <matplotlib.text.Text at 0x7f5d6736a890>,\n",
       " <matplotlib.text.Text at 0x7f5d6736afd0>]"
      ]
     },
     "execution_count": 42,
     "metadata": {},
     "output_type": "execute_result"
    },
    {
     "data": {
      "image/png": "[encoded data removed]",
      "text/plain": [
       "<matplotlib.figure.Figure at 0x7f5d6b52b590>"
      ]
     },
     "metadata": {},
     "output_type": "display_data"
    }
   ],
   "source": [
    "%pylab inline\n",
    "order = [i for i in range(len(year))]\n",
    "fig, ax = plt.subplots()\n",
    "ax.bar( order,count_ordered)\n",
    "ax.set_xticks(order)\n",
    "ax.set_title(\"Nodes created a year\")\n",
    "ax.set_ylabel(\"Nodes created\")\n",
    "ax.set_xlabel(\"Years\")\n",
    "ax.set_xticklabels(year_ordered, rotation=45)"
   ]
  },
  {
   "cell_type": "markdown",
   "metadata": {},
   "source": [
    "At last we can see the ordered graph with the number of nodes created in the different years, as we can see the most active year was in 2011. "
   ]
  },
  {
   "cell_type": "markdown",
   "metadata": {},
   "source": [
    "## Improving the data\n",
    "\n",
    "The data we have been working with in theis project can be improved in a number of ways. I think the most important thing is to create a validation system before the new data is inputted. For example it will be nice if there would be some kind of validator that cloud check the format of the street phone and so on. In addition to the previous check there could be an enhancement that fills the missing information. \n",
    "\n",
    "Another improvent could be an automatic validation of the inputted data based on the coordinates given. For example if you want to input some data for madrid the coordinates must be between some know parameters that form the area of madrid, so if the data we want to input its within this area is acepted. This coould help to avoid problems like the one I faced when I found a node of a bank that was hundreds of kilometers away from the area I choose to work with\n",
    "\n",
    "As we saw in the previous graph the participation in 2015 was really low. In order to improve the participation the could be some kind of ranking system in which the users are not only ranked on the number of information inputted but also on the cleaningness and completeness of the data. This should encourage the users to input their data following as much as they can the style guides of OpenStreet Maps.\n"
   ]
  },
  {
   "cell_type": "markdown",
   "metadata": {},
   "source": [
    "## Benefits and posible implementations on the data\n",
    "\n",
    "One possible way of implementing the validation could be by involving all the user in the validation process, like if someone inputs the data, other people could validate it and get points for it so both their rankings improve. This could mean that the users will have the opportunity not only to increase their city with the inputted data but learn of new spots in their own cities or others thanks to the input of others. The ranking could give benefits when reach certain points. For example you can implement it as a point to unlock system. In which you start with one small area and once you start inputting data and earning point the area increases allowing you to access more area to input and validate. Also it could be stablished a rank or badge system, like once a month you can get a shareable badge that you could post in your social media to show your hard work and dedication. The implementation of the latter could be pretty easy, with just a program to check everyones participation numbers. The previous could require harder work but i im certain that it could be achievable\n",
    "\n",
    "The automatic validation poses some programing difficulties given that there are multiple languages and in every language you have a distinct way of determine things like streettype or the postcode. In addition you got to face the problem of the encoding, which I faced during the project. Encoding can become really hard to face because in a city every node might not be in the same encoding due to the different user inputs.This should be in the style guide like for the cities or countries that in some cases need the use of special characters. All these countries texts should be all in the same encoding so you can operate with the need of parsing and avoiding unecessary errors in String handling."
   ]
  },
  {
   "cell_type": "markdown",
   "metadata": {},
   "source": [
    "## Conclusions\n",
    "In conclusion we have worked with the entire city of Madrid, Spain in order to apply my knowledge of data analysis so we could audit, fix and enhance the city of Madrid, my hometown.\n",
    "Once we had our objective clear we set three different steps to acomplish our final result:\n",
    "### Auditing:\n",
    "in this step we searched for different ways of fixing or enhancing our data. I came up with different areas for enhancements:\n",
    "* JSON format: we will be formatting everything to json for an easier handling\n",
    "* Normalizing the street types: because there were multiple ways written\n",
    "* Fixing errors: we found one human error of a node being in oru dataset where it shouldnt be\n",
    "* Normalizing the phones: for an easier search and better visualization we should have all the phones with the same format\n",
    "* Filling the missing data: we found some blanks in our data that could beneficiate if they were filled.\n",
    "\n",
    "### Fixing:\n",
    "In this step we took this tasks we found in the auditing part and applied them:\n",
    "* we have now a list of JSON files \n",
    "* All the streetnames are now formatted in the most common way \"Aaaa\", only one upper case.\n",
    "* I removed the bad node from the dataset so it wont interfere with the rest of the project\n",
    "* In order to normalize the phones I used an adaptation of a google library of phone formatting\n",
    "* Finally to fill the missing data we used the Geocoding API of GEOCODE.XYZ. That API allows applying geocoding (address to coordiates) and reverse geocoding (coordinates to address) for that we used the request library and the JSON return format to fill those empty coordinates nodes or the ones with the missing address.\n",
    " During the realization of theis stage we faced one main problem, the amount of data we where working with, The amount was over two million nodes. So that plus the fact that even though the API had unlimited calls the speed was severely limited, I was forced to stop the execution of the API code after two straight days executing. These two days generated over 200.000 json documents to work with, so for studying purposes i think this was more than enough to work with.\n",
    " \n",
    "### Analyzing our data:\n",
    "Once we had this batch of json documents auditted, fixed and enhanced we input them into our MongoDB database. Now that we have the collection database filled we can start working with it in order to get some important information out of it. With that goal in mind we draw two different bar graph in order to see what are the most important users, refering to node creation, and the most active years. Finally we wanted to work with different capabilities of the aggregate function and that is why we wanted to know which was the postcode with the most node referred to it.\n",
    "\n",
    "### Conclusions\n",
    "I have found two enhancements that could be appllied in the future:\n",
    "* One thing we could add to our JSON is the difference city and autonomous community. Which in case you dont know the meaning of the term is the territorial division used in spain, for more information you can look it up here: https://en.wikipedia.org/wiki/Autonomous_communities_of_Spain\n",
    "* Finish the code for the completion of the data. That involves letting the code run for as much as it needed to and spend some time re auditing the new data in order to be sure that the newly recieved data is up to our standards\n",
    "\n",
    "To conclude I have been able to aduit, fix and analyze the data of the city of Madrid, Spain downloaded from OpenStreetMaps. During that I have been able to work with multiple libraries, from the handling of an .osm file to the requests library. Finally i used my knowledge of the mongoDB database calls in order to learn from the gathered data."
   ]
  },
  {
   "cell_type": "markdown",
   "metadata": {},
   "source": [
    "## Bibliography\n",
    "* https://en.wikipedia.org/wiki/Autonomous_communities_of_Spain\n",
    "* https://regex101.com/r/JJS2kz/1/tests\n",
    "* http://stackoverflow.com/questions/10268518/python-string-to-unicode\n",
    "* http://stackoverflow.com/questions/12559144/regex-for-fixed-position-and-length-field\n",
    "* http://www.programmableweb.com/news/7-free-geocoding-apis-google-bing-yahoo-and-mapquest/2012/06/21\n",
    "* http://api.mongodb.com/python/current/api/pymongo/collection.html?_ga=1.97754904.681387829.1477673030#pymongo.collection.Collection.insert_many\n",
    "* http://stackoverflow.com/questions/1112343/how-do-i-capture-sigint-in-python\n",
    "* http://stackoverflow.com/questions/6618515/sorting-list-based-on-values-from-another-list\n",
    "* http://matplotlib.org/examples/api/barchart_demo.html\n",
    "* http://stackoverflow.com/questions/19068269/how-to-convert-a-string-date-into-datetime-format-in-python\n",
    "* https://geocode.xyz/api\n",
    "* http://stackoverflow.com/questions/18836064/pymongo-method-of-getting-statistics-for-collection-byte-usage"
   ]
  }
 ],
 "metadata": {
  "anaconda-cloud": {},
  "kernelspec": {
   "display_name": "Python [default]",
   "language": "python",
   "name": "python2"
  },
  "language_info": {
   "codemirror_mode": {
    "name": "ipython",
    "version": 2
   },
   "file_extension": ".py",
   "mimetype": "text/x-python",
   "name": "python",
   "nbconvert_exporter": "python",
   "pygments_lexer": "ipython2",
   "version": "2.7.12"
  }
 },
 "nbformat": 4,
 "nbformat_minor": 0
}
